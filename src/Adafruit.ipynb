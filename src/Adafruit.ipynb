{
 "cells": [
  {
   "cell_type": "code",
   "execution_count": 18,
   "metadata": {},
   "outputs": [],
   "source": [
    "#imports \n",
    "from AdafruitBLE_functions import connect_to_device\n",
    "from AdafruitBLE_functions import write_UART_byte\n",
    "from AdafruitBLE_functions import write_UART_conn\n",
    "from AdafruitBLE_functions import write_UART_name\n",
    "from BLEMessage import BLEMessage\n",
    "import sys "
   ]
  },
  {
   "cell_type": "code",
   "execution_count": 19,
   "metadata": {},
   "outputs": [
    {
     "name": "stdout",
     "output_type": "stream",
     "text": [
      "scanning\n",
      "device found\n",
      " <Advertisement complete_name=Nordic_UART_Service >\n",
      "connecting to device\n",
      "connection successful\n"
     ]
    }
   ],
   "source": [
    "# connection interval cannot be set here \n",
    "global ipg_name\n",
    "global my_connection\n",
    "timeout = 10\n",
    "ipg_name = \"Nordic_UART_Service\"\n",
    "\n",
    "my_connection = connect_to_device(ipg_name, timeout)"
   ]
  },
  {
   "cell_type": "code",
   "execution_count": 24,
   "metadata": {},
   "outputs": [
    {
     "name": "stdout",
     "output_type": "stream",
     "text": [
      "b'\\x01\\xf4}d'\n"
     ]
    }
   ],
   "source": [
    "i = 32800100\n",
    "bytes = i.to_bytes(4, byteorder='big')\n",
    "print(bytes)\n",
    "write_UART_byte(my_connection, bytes)"
   ]
  },
  {
   "cell_type": "code",
   "execution_count": 23,
   "metadata": {},
   "outputs": [
    {
     "name": "stdout",
     "output_type": "stream",
     "text": [
      "----------\n",
      "encoding b1 and b2\n",
      "compression step is 1\n",
      "b1 = 1, b2 = 244\n",
      "----------\n",
      "encoding b3\n",
      "compression step is 2\n",
      "b3 = 125\n",
      "----------\n",
      "encoding b4\n",
      "compression step is 1\n",
      "b4 = 100\n",
      "----------\n",
      "printing parameters\n",
      "StimAmp: 500\n",
      "Stim PW: 250\n",
      "Stim Freq: 100\n",
      "Stim status False\n",
      "chr message: \u0001 ô } d\n",
      "Binary message: 0x1 0xf4 0x7d 0x64\n",
      "int message 32800100\n",
      "done\n",
      "----------\n",
      "bytearray(b'\\x01\\xf4}d')\n"
     ]
    }
   ],
   "source": [
    "message = BLEMessage(500, 250, 100, False)\n",
    "message.print_param()\n",
    "print(message.test())"
   ]
  },
  {
   "cell_type": "code",
   "execution_count": null,
   "metadata": {},
   "outputs": [],
   "source": [
    "# testing cell \n",
    "message = BLEMessage(500, 250, 100, False).test()\n",
    "print(message)\n",
    "write_UART_byte(my_connection, message)"
   ]
  },
  {
   "cell_type": "code",
   "execution_count": null,
   "metadata": {},
   "outputs": [],
   "source": [
    "message = BLEMessage(500, 200, 100, False).test_1()\n",
    "print(message)\n",
    "write_UART_conn(my_connection, message)\n"
   ]
  },
  {
   "cell_type": "code",
   "execution_count": null,
   "metadata": {},
   "outputs": [],
   "source": [
    "write_UART_name(ipg_name, message)"
   ]
  },
  {
   "cell_type": "code",
   "execution_count": null,
   "metadata": {},
   "outputs": [],
   "source": [
    "my_connection.disconnect()"
   ]
  }
 ],
 "metadata": {
  "kernelspec": {
   "display_name": "Python 3",
   "language": "python",
   "name": "python3"
  },
  "language_info": {
   "codemirror_mode": {
    "name": "ipython",
    "version": 3
   },
   "file_extension": ".py",
   "mimetype": "text/x-python",
   "name": "python",
   "nbconvert_exporter": "python",
   "pygments_lexer": "ipython3",
   "version": "3.11.3"
  },
  "orig_nbformat": 4
 },
 "nbformat": 4,
 "nbformat_minor": 2
}
