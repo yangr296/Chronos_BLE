{
 "cells": [
  {
   "cell_type": "code",
   "execution_count": 15,
   "metadata": {},
   "outputs": [],
   "source": [
    "# %pip install bleak\n",
    "import asyncio\n",
    "from bleak import BleakScanner\n",
    "\n",
    "#dsicover all advertising devices \n",
    "async def disc():\n",
    "    devices = await BleakScanner.discover()\n",
    "    for d in devices:\n",
    "        print(d)"
   ]
  },
  {
   "cell_type": "code",
   "execution_count": 16,
   "metadata": {},
   "outputs": [],
   "source": [
    "import sys\n",
    "from bleak import BleakClient\n",
    "\n",
    "#connect to a device via the specified address amd print out services etc\n",
    "async def listServices(address):\n",
    "  async with BleakClient(address) as client:\n",
    "    if (not client.is_connected):\n",
    "      raise \"client not connected\"\n",
    "\n",
    "    print('\\naddress: ', address)\n",
    "    services = await client.get_services()\n",
    "\n",
    "    for service in services:\n",
    "      print('\\nservice', service.handle, service.uuid, service.description)\n",
    "\n",
    "      characteristics = service.characteristics\n",
    "\n",
    "      for char in characteristics:\n",
    "        print('  characteristic', char.handle, char.uuid, char.description, char.properties)\n",
    "\n",
    "        descriptors = char.descriptors\n",
    "\n",
    "        for desc in descriptors:\n",
    "          print('    descriptor', desc)\n",
    "    client.disconnect"
   ]
  },
  {
   "cell_type": "code",
   "execution_count": 17,
   "metadata": {},
   "outputs": [],
   "source": [
    "from bleak import BleakClient\n",
    "\n",
    "\"\"\"\n",
    "address: address of the connecting device \n",
    "data: data to be transmitted \n",
    "char_specifier: the characteristic to trasmit data to \n",
    "disconnect: (bool) whether to disconnect after this operation \n",
    "\"\"\"\n",
    "async def write(address, data, char_specifier, disconnect):\n",
    "    async with BleakClient(address) as client:\n",
    "        client.write_gatt_char(char_specifier, data)\n",
    "    if disconnect:\n",
    "        client.disconnect"
   ]
  },
  {
   "cell_type": "code",
   "execution_count": 18,
   "metadata": {},
   "outputs": [
    {
     "name": "stdout",
     "output_type": "stream",
     "text": [
      "invalid entry\n",
      "\n"
     ]
    },
    {
     "ename": "SystemExit",
     "evalue": "1",
     "output_type": "error",
     "traceback": [
      "An exception has occurred, use %tb to see the full traceback.\n",
      "\u001b[1;31mSystemExit\u001b[0m\u001b[1;31m:\u001b[0m 1\n"
     ]
    },
    {
     "name": "stderr",
     "output_type": "stream",
     "text": [
      "C:\\Users\\tyang296\\AppData\\Local\\Packages\\PythonSoftwareFoundation.Python.3.11_qbz5n2kfra8p0\\LocalCache\\local-packages\\Python311\\site-packages\\IPython\\core\\interactiveshell.py:3516: UserWarning: To exit: use 'exit', 'quit', or Ctrl-D.\n",
      "  warn(\"To exit: use 'exit', 'quit', or Ctrl-D.\", stacklevel=1)\n"
     ]
    }
   ],
   "source": [
    "menu = \"User Menu:\\n(1) for listiing all discoverable devices\\n(2) for listing all services & description of a device\\n(3) for writing to a device\\n\"\n",
    "\n",
    "async def main():\n",
    "    num = input(menu)\n",
    "    if num == 1:\n",
    "        task = asyncio.create_task(disc())\n",
    "    if num == 2:\n",
    "        addr = input(\"please input the address of the device you want to connect to\\n\")\n",
    "        task = asyncio.create_task(listServices(addr))\n",
    "    if num == 3:\n",
    "        addr = input(\"please input the address of the device you want to connect to\\n\")\n",
    "        char = input(\"please input the characteristic you want to write to\\n\")\n",
    "        data = input(\"please input the data you want to write\\n\")\n",
    "        disconnect = input(\"please indicate whether ypu want to disconnect after the operation\\ny for disconnect, n for stay connected\\n\")\n",
    "        if disconnect == 'y':\n",
    "            discconnect_bool = True\n",
    "        elif disconnect == 'n':\n",
    "            disconnect_bool = False\n",
    "        else:\n",
    "            print(\"invalid entry\\n\")\n",
    "            sys.exit(1)\n",
    "        task = asyncio.create_task(write(addr, data, char, disconnect_bool))\n",
    "    else:\n",
    "        print(\"invalid entry\\n\")\n",
    "        sys.exit(1)\n",
    "    \n",
    "    await task     \n",
    "\n",
    "# asyncio.create_task(main())\n",
    "await main()"
   ]
  }
 ],
 "metadata": {
  "kernelspec": {
   "display_name": "Python 3",
   "language": "python",
   "name": "python3"
  },
  "language_info": {
   "codemirror_mode": {
    "name": "ipython",
    "version": 3
   },
   "file_extension": ".py",
   "mimetype": "text/x-python",
   "name": "python",
   "nbconvert_exporter": "python",
   "pygments_lexer": "ipython3",
   "version": "3.11.4"
  },
  "orig_nbformat": 4
 },
 "nbformat": 4,
 "nbformat_minor": 2
}
