{
 "cells": [
  {
   "cell_type": "markdown",
   "metadata": {},
   "source": [
    "# Imports "
   ]
  },
  {
   "cell_type": "code",
   "execution_count": 22,
   "metadata": {},
   "outputs": [],
   "source": [
    "import dearpygui.dearpygui as dpg \n",
    "from AdafruitBLE_functions import connect_to_device\n",
    "from AdafruitBLE_functions import write_UART_byte\n",
    "from BLEMessage import BLEMessage"
   ]
  },
  {
   "cell_type": "markdown",
   "metadata": {},
   "source": [
    "# BLE Message setup"
   ]
  },
  {
   "cell_type": "code",
   "execution_count": 23,
   "metadata": {},
   "outputs": [
    {
     "name": "stdout",
     "output_type": "stream",
     "text": [
      "----------\n",
      "encoding b1 and b2\n",
      "compression step is 1\n",
      "b1 = 0, b2 = 0\n",
      "----------\n",
      "encoding b3\n",
      "compression step is 2\n",
      "b3 = 0\n",
      "----------\n",
      "encoding b4\n",
      "compression step is 1\n",
      "b4 = 0\n"
     ]
    }
   ],
   "source": [
    "ipg_name = 'Nordic_UART_Service'\n",
    "my_connection = None\n",
    "timeout = 10\n",
    "message = BLEMessage(0,0,0,False)"
   ]
  },
  {
   "cell_type": "markdown",
   "metadata": {},
   "source": [
    "# GUI Callback Defs"
   ]
  },
  {
   "cell_type": "code",
   "execution_count": 24,
   "metadata": {},
   "outputs": [],
   "source": [
    "def button_cb(sender, app_data, user_data):\n",
    "    global my_connection\n",
    "    global message\n",
    "    \n",
    "    print('Sender is %s, app_data is %s, user_data is %s' %(sender, app_data, user_data))\n",
    "    stim_amp = int(dpg.get_value(stim_amp_input))\n",
    "    stim_pw = int(dpg.get_value(stim_pw_input))\n",
    "    stim_fq = int(dpg.get_value(stim_fq_input))\n",
    "    \n",
    "    if int(dpg.get_value(stim_status_input)) == True:\n",
    "        stim_status = True\n",
    "    elif int(dpg.get_value(stim_status_input)) == False:\n",
    "        stim_status = False\n",
    "    else:\n",
    "        print('Invalid input')\n",
    "        \n",
    "    print('Stim amplitude is %i' %(stim_amp))\n",
    "    print('Stim power is %i' %(stim_pw))\n",
    "    print('Stim frequency is %i' %(stim_fq))\n",
    "\n",
    "    message.set_amp(stim_amp)\n",
    "    message.set_pw(stim_pw)\n",
    "    message.set_fq(stim_fq)\n",
    "    message.set_status(stim_status)\n",
    "    \n",
    "    message_encoded = message.get_encoded()\n",
    "    write_UART_byte(my_connection, message_encoded)\n",
    "    \n",
    "    \n",
    "def connection_cb(sender, app_data, user_data):\n",
    "    global my_connection\n",
    "    my_connection = connect_to_device(ipg_name, timeout)\n",
    "    \n",
    "def disconnect_cb(sender, app_data, user_data):\n",
    "    global my_connection\n",
    "    my_connection.disconnect()"
   ]
  },
  {
   "cell_type": "markdown",
   "metadata": {},
   "source": [
    "# GUI Setup"
   ]
  },
  {
   "cell_type": "markdown",
   "metadata": {},
   "source": [
    "### Font Registry"
   ]
  },
  {
   "cell_type": "markdown",
   "metadata": {},
   "source": [
    "### Value Registry"
   ]
  },
  {
   "cell_type": "code",
   "execution_count": 25,
   "metadata": {},
   "outputs": [],
   "source": [
    "dpg.create_context()\n",
    "dpg.create_viewport(title=\"Chronos\", width=600, height=430)\n",
    "\n",
    "with dpg.value_registry():\n",
    "    dpg.add_bool_value(default_value=False, tag=\"bool_value\")"
   ]
  },
  {
   "cell_type": "code",
   "execution_count": 26,
   "metadata": {},
   "outputs": [],
   "source": [
    "with dpg.font_registry():\n",
    "    with dpg.font(\"C:/Users/richa/IPG/fonts/Ubuntu-R.ttf\", 100) as default_font:\n",
    "        dpg.add_font_range(0x0370, 0x03FF)\n",
    "    title = dpg.add_font(\"C:/Users/richa/IPG/fonts/Ubuntu-BI.ttf\", 300)\n",
    "    buttons = dpg.add_font(\"C:/Users/richa/IPG/fonts/Ubuntu-RI.ttf\", 100)\n",
    "    "
   ]
  },
  {
   "cell_type": "markdown",
   "metadata": {},
   "source": [
    "### Window Setup"
   ]
  },
  {
   "cell_type": "code",
   "execution_count": 27,
   "metadata": {},
   "outputs": [],
   "source": [
    "myIndent = 225\n",
    "with dpg.window(tag='My Window', on_close=disconnect_cb):\n",
    "    chronos = dpg.add_text('Chronos\\n', color=(110, 140, 240))\n",
    "    \n",
    "    with dpg.group(horizontal=True, horizontal_spacing=15):  \n",
    "        connect = dpg.add_button(label='connect to device', callback=connection_cb)\n",
    "        disconnect = dpg.add_button(label='disconnect', callback=disconnect_cb)\n",
    "        button = dpg.add_button(label='send', callback=button_cb)\n",
    "        \n",
    "    dpg.add_text(\"\")\n",
    "    with dpg.group(horizontal=True): \n",
    "        dpg.add_text('Stim Amplitude (\\u03BCA)')\n",
    "        stim_amp_input = dpg.add_input_text(default_value='0', width=65, indent=myIndent)\n",
    "    with dpg.group(horizontal=True):\n",
    "        dpg.add_text('Stim Pulse Width (\\u03BCs)')\n",
    "        stim_pw_input = dpg.add_input_text(default_value='0', width=65, indent=myIndent)\n",
    "    with dpg.group(horizontal=True):\n",
    "        dpg.add_text('Stim Frequency (Hz)')\n",
    "        stim_fq_input = dpg.add_input_text(default_value='0', width=65, indent=myIndent)\n",
    "    with dpg.group(horizontal=True):\n",
    "        dpg.add_text('Start Stim')\n",
    "        stim_status_input = dpg.add_checkbox(default_value=False, indent=myIndent)\n",
    "    \n",
    "    \n",
    "    dpg.bind_font(default_font)\n",
    "    dpg.bind_item_font(chronos, title)\n",
    "    dpg.bind_item_font(connect, buttons)\n",
    "    dpg.bind_item_font(disconnect, buttons)\n",
    "    dpg.bind_item_font(button, buttons)\n",
    "    dpg.set_global_font_scale(0.2)"
   ]
  },
  {
   "cell_type": "code",
   "execution_count": 28,
   "metadata": {},
   "outputs": [],
   "source": [
    "# dpg.show_font_manager()\n",
    "# dpg.show_style_editor()\n",
    "\n",
    "dpg.setup_dearpygui()\n",
    "dpg.show_viewport()\n",
    "dpg.set_primary_window('My Window', True)\n",
    "dpg.start_dearpygui()\n",
    "dpg.destroy_context()"
   ]
  }
 ],
 "metadata": {
  "kernelspec": {
   "display_name": "Python 3",
   "language": "python",
   "name": "python3"
  },
  "language_info": {
   "codemirror_mode": {
    "name": "ipython",
    "version": 3
   },
   "file_extension": ".py",
   "mimetype": "text/x-python",
   "name": "python",
   "nbconvert_exporter": "python",
   "pygments_lexer": "ipython3",
   "version": "3.11.3"
  },
  "orig_nbformat": 4
 },
 "nbformat": 4,
 "nbformat_minor": 2
}
