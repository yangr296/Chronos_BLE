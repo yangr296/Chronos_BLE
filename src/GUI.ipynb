{
 "cells": [
  {
   "cell_type": "code",
   "execution_count": 13,
   "metadata": {},
   "outputs": [
    {
     "ename": "ModuleNotFoundError",
     "evalue": "No module named 'adafruit_ble'",
     "output_type": "error",
     "traceback": [
      "\u001b[1;31m---------------------------------------------------------------------------\u001b[0m",
      "\u001b[1;31mModuleNotFoundError\u001b[0m                       Traceback (most recent call last)",
      "Cell \u001b[1;32mIn[13], line 2\u001b[0m\n\u001b[0;32m      1\u001b[0m \u001b[39mimport\u001b[39;00m \u001b[39mdearpygui\u001b[39;00m\u001b[39m.\u001b[39;00m\u001b[39mdearpygui\u001b[39;00m \u001b[39mas\u001b[39;00m \u001b[39mdpg\u001b[39;00m \n\u001b[1;32m----> 2\u001b[0m \u001b[39mfrom\u001b[39;00m \u001b[39mAdafruitBLE_functions\u001b[39;00m \u001b[39mimport\u001b[39;00m connect_to_device\n\u001b[0;32m      3\u001b[0m \u001b[39mfrom\u001b[39;00m \u001b[39mAdafruitBLE_functions\u001b[39;00m \u001b[39mimport\u001b[39;00m write_UART_byte\n\u001b[0;32m      4\u001b[0m \u001b[39mfrom\u001b[39;00m \u001b[39mBLEMessage\u001b[39;00m \u001b[39mimport\u001b[39;00m BLEMessage\n",
      "File \u001b[1;32mi:\\ipg\\src\\AdafruitBLE_functions.py:1\u001b[0m\n\u001b[1;32m----> 1\u001b[0m \u001b[39mfrom\u001b[39;00m \u001b[39madafruit_ble\u001b[39;00m \u001b[39mimport\u001b[39;00m BLERadio\n\u001b[0;32m      2\u001b[0m \u001b[39mfrom\u001b[39;00m \u001b[39madafruit_ble\u001b[39;00m \u001b[39mimport\u001b[39;00m BLEConnection\n\u001b[0;32m      3\u001b[0m \u001b[39mfrom\u001b[39;00m \u001b[39madafruit_ble\u001b[39;00m\u001b[39m.\u001b[39;00m\u001b[39madvertising\u001b[39;00m \u001b[39mimport\u001b[39;00m Advertisement\n",
      "\u001b[1;31mModuleNotFoundError\u001b[0m: No module named 'adafruit_ble'"
     ]
    }
   ],
   "source": [
    "import dearpygui.dearpygui as dpg \n",
    "from AdafruitBLE_functions import connect_to_device\n",
    "from AdafruitBLE_functions import write_UART_byte\n",
    "from BLEMessage import BLEMessage\n",
    "\n",
    "global ipg_name\n",
    "global my_connection\n",
    "global timeout \n",
    "\n",
    "ipg_name = 'Nordic_UART_Service'\n",
    "timeout = 10"
   ]
  },
  {
   "cell_type": "code",
   "execution_count": 12,
   "metadata": {},
   "outputs": [
    {
     "ename": "NameError",
     "evalue": "name 'connect_to_device' is not defined",
     "output_type": "error",
     "traceback": [
      "\u001b[1;31m---------------------------------------------------------------------------\u001b[0m",
      "\u001b[1;31mNameError\u001b[0m                                 Traceback (most recent call last)",
      "Cell \u001b[1;32mIn[12], line 18\u001b[0m, in \u001b[0;36mconnection_cb\u001b[1;34m(sender, app_data, user_data)\u001b[0m\n\u001b[0;32m     17\u001b[0m \u001b[39mdef\u001b[39;00m \u001b[39mconnection_cb\u001b[39m(sender, app_data, user_data):\n\u001b[1;32m---> 18\u001b[0m     my_connection \u001b[39m=\u001b[39m connect_to_device(ipg_name, timeout)\n",
      "\u001b[1;31mNameError\u001b[0m: name 'connect_to_device' is not defined"
     ]
    }
   ],
   "source": [
    "dpg.create_context()\n",
    "dpg.create_viewport(title=\"cutom Title\", width=800, height=500)\n",
    "\n",
    "def button_cb(sender, app_data, user_data):\n",
    "    print('Sender is %s, app_data is %s, user_data is %s' %(sender, app_data, user_data))\n",
    "    stim_amp = int(dpg.get_value(stim_amp))\n",
    "    stim_PW = int(dpg.get_value(stim_PW))\n",
    "    stim_Freq = int(dpg.get_value(stim_Freq))\n",
    "    \n",
    "    print('Stim amplitude is %i' %(stim_amp))\n",
    "    print('Stim power is %i' %(stim_PW))\n",
    "    print('stim_Freq is %i' %(stim_Freq))\n",
    "    \n",
    "    message = BLEMessage(stim_amp, stim_PW, stim_Freq, False).get_encoded()\n",
    "    write_UART_byte(my_connection, message)\n",
    "    \n",
    "def connection_cb(sender, app_data, user_data):\n",
    "    my_connection = connect_to_device(ipg_name, timeout)\n",
    "    \n",
    "with dpg.window(tag='My Window'):\n",
    "    dpg.add_text('Chronos')\n",
    "    connect = dpg.add_button(label='connect to device', callback=connection_cb)\n",
    "    stim_amp = dpg.add_input_text(label='Stim Amplitude: \\u03BCA', default_value='0')\n",
    "    stim_PW = dpg.add_input_text(label='Stim Power:', default_value='0')\n",
    "    stim_Freq = dpg.add_input_text(label='Stim Frequency:', default_value='0')\n",
    "    button = dpg.add_button(label='send', callback=button_cb)\n",
    "\n",
    "\n",
    "dpg.setup_dearpygui()\n",
    "dpg.show_viewport()\n",
    "dpg.set_primary_window('My Window', True)\n",
    "dpg.start_dearpygui()\n",
    "dpg.destroy_context()"
   ]
  }
 ],
 "metadata": {
  "kernelspec": {
   "display_name": "Python 3",
   "language": "python",
   "name": "python3"
  },
  "language_info": {
   "codemirror_mode": {
    "name": "ipython",
    "version": 3
   },
   "file_extension": ".py",
   "mimetype": "text/x-python",
   "name": "python",
   "nbconvert_exporter": "python",
   "pygments_lexer": "ipython3",
   "version": "3.11.4"
  },
  "orig_nbformat": 4
 },
 "nbformat": 4,
 "nbformat_minor": 2
}
