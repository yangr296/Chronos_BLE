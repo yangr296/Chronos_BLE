{
 "cells": [
  {
   "cell_type": "code",
   "execution_count": 22,
   "metadata": {},
   "outputs": [
    {
     "name": "stdout",
     "output_type": "stream",
     "text": [
      "Found 2 devices\n"
     ]
    }
   ],
   "source": [
    "import bluetooth\n",
    "nearby_devices = bluetooth.discover_devices(lookup_class=True, lookup_names=True)\n",
    "print(\"Found %d devices\" % len(nearby_devices))"
   ]
  },
  {
   "cell_type": "code",
   "execution_count": 23,
   "metadata": {},
   "outputs": [
    {
     "name": "stdout",
     "output_type": "stream",
     "text": [
      "A0:A3:09:6C:9B:07\n",
      "Оксана Романова - Find My\n",
      "2360344\n",
      "B8:D5:0B:79:B2:4D\n",
      "SRS-XB20\n",
      "2360340\n"
     ]
    }
   ],
   "source": [
    "for addr, name, device_class in nearby_devices:\n",
    "    print(addr)\n",
    "    print(name)\n",
    "    print(device_class)"
   ]
  },
  {
   "cell_type": "code",
   "execution_count": 16,
   "metadata": {},
   "outputs": [],
   "source": [
    "device = bluetooth.find_service(address=\"B8:D5:0B:79:B2:4D\")\n"
   ]
  },
  {
   "cell_type": "code",
   "execution_count": 17,
   "metadata": {},
   "outputs": [
    {
     "name": "stdout",
     "output_type": "stream",
     "text": [
      "[]\n"
     ]
    }
   ],
   "source": [
    "print(device)"
   ]
  }
 ],
 "metadata": {
  "kernelspec": {
   "display_name": "base",
   "language": "python",
   "name": "python3"
  },
  "language_info": {
   "codemirror_mode": {
    "name": "ipython",
    "version": 3
   },
   "file_extension": ".py",
   "mimetype": "text/x-python",
   "name": "python",
   "nbconvert_exporter": "python",
   "pygments_lexer": "ipython3",
   "version": "3.11.3"
  },
  "orig_nbformat": 4
 },
 "nbformat": 4,
 "nbformat_minor": 2
}
