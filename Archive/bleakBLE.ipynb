{
 "cells": [
  {
   "cell_type": "code",
   "execution_count": 1,
   "metadata": {},
   "outputs": [
    {
     "name": "stdout",
     "output_type": "stream",
     "text": [
      "Requirement already satisfied: bleak==0.14.0 in c:\\users\\richa\\appdata\\local\\packages\\pythonsoftwarefoundation.python.3.11_qbz5n2kfra8p0\\localcache\\local-packages\\python311\\site-packages (0.14.0)\n",
      "Requirement already satisfied: bleak-winrt>=1.1.0 in c:\\users\\richa\\appdata\\local\\packages\\pythonsoftwarefoundation.python.3.11_qbz5n2kfra8p0\\localcache\\local-packages\\python311\\site-packages (from bleak==0.14.0) (1.2.0)\n",
      "Note: you may need to restart the kernel to use updated packages.\n"
     ]
    }
   ],
   "source": [
    "\n",
    "%pip install \"bleak==0.14.0\"\n",
    "import asyncio\n",
    "from bleak import BleakScanner\n",
    "\n",
    "#dsicover all advertising devices \n",
    "async def disc():\n",
    "    devices = await BleakScanner.discover()\n",
    "    for d in devices:\n",
    "        print(d)"
   ]
  },
  {
   "cell_type": "code",
   "execution_count": 2,
   "metadata": {},
   "outputs": [],
   "source": [
    "import sys\n",
    "from bleak import BleakClient\n",
    "\n",
    "#connect to a device via the specified address amd print out services etc\n",
    "async def listServices(address):\n",
    "  async with BleakClient(address) as client:\n",
    "    \"\"\"\n",
    "    if (not client.is_connected):\n",
    "      raise \"client not connected\"\n",
    "    \"\"\"\n",
    "    print('\\naddress: ', address)\n",
    "    services = await client.get_services()\n",
    "\n",
    "    for service in services:\n",
    "      print('\\nservice', service.handle, service.uuid, service.description)\n",
    "\n",
    "      characteristics = service.characteristics\n",
    "\n",
    "      for char in characteristics:\n",
    "        print('  characteristic', char.handle, char.uuid, char.description, char.properties)\n",
    "\n",
    "        descriptors = char.descriptors\n",
    "\n",
    "        for desc in descriptors:\n",
    "          print('    descriptor', desc)\n",
    "    client.disconnect"
   ]
  },
  {
   "cell_type": "code",
   "execution_count": 3,
   "metadata": {},
   "outputs": [],
   "source": [
    "from bleak import BleakClient\n",
    "\n",
    "\"\"\"\n",
    "address: address of the connecting device \n",
    "data: data to be transmitted \n",
    "char_specifier: the characteristic to trasmit data to \n",
    "disconnect: (bool) whether to disconnect after this operation \n",
    "\"\"\"\n",
    "async def write(address, data, char_specifier, disconnect):\n",
    "    async with BleakClient(address) as client:\n",
    "        client.write_gatt_char(char_specifier, data)\n",
    "    if disconnect:\n",
    "        client.disconnect"
   ]
  },
  {
   "cell_type": "code",
   "execution_count": 4,
   "metadata": {},
   "outputs": [],
   "source": [
    "menu = \"User Menu:\\n(1) for listiing all discoverable devices\\n(2) for listing all services & description of a device\\n(3) for writing to a device\\n\"\n",
    "\n",
    "async def main():\n",
    "    num = int(input(menu))\n",
    "    if num == 1:\n",
    "        task = asyncio.create_task(disc())\n",
    "    if num == 2:\n",
    "        addr = input(\"please input the address of the device you want to connect to\\n\")\n",
    "        task = asyncio.create_task(listServices(addr))\n",
    "    if num == 3:\n",
    "        addr = input(\"please input the address of the device you want to connect to\\n\")\n",
    "        char = input(\"please input the characteristic you want to write to\\n\")\n",
    "        data = input(\"please input the data you want to write\\n\")\n",
    "        disconnect = input(\"please indicate whether ypu want to disconnect after the operation\\ny for disconnect, n for stay connected\\n\")\n",
    "        if disconnect == 'y':\n",
    "            discconnect_bool = True\n",
    "        elif disconnect == 'n':\n",
    "            disconnect_bool = False\n",
    "        else:\n",
    "            print(\"invalid entry\\n\")\n",
    "            sys.exit(1)\n",
    "        task = asyncio.create_task(write(addr, data, char, disconnect_bool))\n",
    "    else:\n",
    "        print(\"invalid entry\\n\")\n",
    "        sys.exit(1)\n",
    "    \n",
    "    await task     \n",
    "\n",
    "# asyncio.create_task(main())\n",
    "# await main()"
   ]
  },
  {
   "cell_type": "code",
   "execution_count": 5,
   "metadata": {},
   "outputs": [],
   "source": [
    "async def connect(name):\n",
    "    device = BleakScanner.find_device_by_name(\"Nordic_UART_Service\")\n",
    "    print(device)\n",
    "    client = BleakClient(device)\n",
    "    client.connect(timeout=15)\n",
    "    if(BleakClient.is_connected):\n",
    "        print(\"connected\")\n",
    "    else:\n",
    "        print(\"not connected\")\n",
    "    \n",
    "    # print('\\naddress: ', address)\n",
    "    # BleakScanner.discover()\n",
    "    # services = client.services\n",
    "    # print(service)\n",
    "    client.pair()\n",
    "    for service in client.services:\n",
    "      print('\\nservice', service.handle, service.uuid, service.description)\n",
    "\n",
    "      characteristics = service.characteristics\n",
    "\n",
    "      for char in characteristics:\n",
    "        print('  characteristic', char.handle, char.uuid, char.description, char.properties)\n",
    "\n",
    "        descriptors = char.descriptors\n",
    "\n",
    "        for desc in descriptors:\n",
    "          print('    descriptor', desc)\n",
    "    client.disconnect"
   ]
  },
  {
   "cell_type": "code",
   "execution_count": 6,
   "metadata": {},
   "outputs": [
    {
     "name": "stdout",
     "output_type": "stream",
     "text": [
      "10:97:BD:ED:E5:8E: SonicuDuo_001F09FFFE069E43\n",
      "66:E5:30:E7:0A:39: Apple, Inc. (b'\\x07\\x19\\x01\\t \\x00\\xf3\\x8f\\x00\\x18\\x00H\\x8c\\t\\x94\\x92\\x04T\\xfe \\xb2\\xf6\\x9daM\\x8e\\x80')\n",
      "1A:C2:2B:14:50:7F: Microsoft (b'\\x01\\t \\x02^\\x8a\\xb5\\xd3@-\\xf0\\xd7\\xfd\\xfd\\xd4\\xd9;\\x8d\\x8a\\xa0\\x83\\x87\\xa8\\x8a\\xfd}I')\n",
      "54:38:46:2E:EA:CB: Microsoft (b'\\x01\\t \\x02Wc\\xe4\\x03\\xa1\\x1b\\xa7\\x86\\xb1\\xfd\\x16!\\xdbp/\\xb8\\xd6\\x0c\\xa9^\\xe8\\xa8\\xb5')\n",
      "75:D7:82:1D:41:9F: Apple, Inc. (b'\\x10\\x073\\x1f\\xab6\\xbd\\xf48')\n",
      "CB:2B:4E:43:16:44: Unknown\n",
      "50:69:A5:D7:AB:FF: Apple, Inc. (b'\\x10\\x072\\x1f\\xf4\\xa5DJh')\n",
      "C8:5A:8A:40:03:3D: Apple, Inc. (b'\\x12\\x02\\x94\\x00')\n",
      "1C:9D:C2:62:D5:D2: SonicuDuo_001F09FFFE06A7D9\n",
      "54:36:74:FC:9D:59: Apple, Inc. (b'\\x10\\x078\\x1f\\xeaQ\\x11\\x99\\x18')\n"
     ]
    }
   ],
   "source": [
    "task = asyncio.create_task(disc())\n",
    "await task\n",
    "\n",
    "#task = asyncio.create_task(connect(\"Nordic_UART_Service\"))\n",
    "#await task"
   ]
  },
  {
   "cell_type": "code",
   "execution_count": 7,
   "metadata": {},
   "outputs": [
    {
     "name": "stdout",
     "output_type": "stream",
     "text": [
      "CB:2B:4E:43:16:44: Nordic_UART_Service\n",
      "connecting\n"
     ]
    },
    {
     "ename": "",
     "evalue": "",
     "output_type": "error",
     "traceback": [
      "\u001b[1;31mThe Kernel crashed while executing code in the the current cell or a previous cell. Please review the code in the cell(s) to identify a possible cause of the failure. Click <a href='https://aka.ms/vscodeJupyterKernelCrash'>here</a> for more info. View Jupyter <a href='command:jupyter.viewOutput'>log</a> for further details."
     ]
    }
   ],
   "source": [
    "device = await BleakScanner.find_device_by_address(\"CB:2B:4E:43:16:44\")\n",
    "\n",
    "print(device)\n",
    "async def connect():\n",
    "    print(\"connecting\")\n",
    "    async with BleakClient(\"CB:2B:4E:43:16:44\") as client:\n",
    "        if(client.is_connected):\n",
    "            print(\"connected\")\n",
    "        else:\n",
    "            print(\"not connected\")\n",
    "\n",
    "task = asyncio.create_task(connect())\n",
    "await task \n"
   ]
  },
  {
   "cell_type": "code",
   "execution_count": null,
   "metadata": {},
   "outputs": [],
   "source": [
    "\"\"\"\n",
    "client = BleakClient(device)\n",
    "print(client)\n",
    "print(\"awaiting task\")\n",
    "await client.disconnect()\n",
    "if(client.is_connected):\n",
    "    print(\"connected\")\n",
    "else:\n",
    "    print(\"not connected\")\n",
    "await client.connect()\n",
    "if(client.is_connected):\n",
    "    print(\"connected\")\n",
    "else:\n",
    "    print(\"not connected\")\n",
    "# print('\\naddress: ', address)\n",
    "# BleakScanner.discover()\n",
    "# services = client.services\n",
    "# print(service)\n",
    "for service in client.services:\n",
    "    print('\\nservice', service.handle, service.uuid, service.description)\n",
    "    characteristics = service.characteristics\n",
    "    for char in characteristics:\n",
    "        print('  characteristic', char.handle, char.uuid, char.description, char.properties)\n",
    "\n",
    "        descriptors = char.descriptors\n",
    "    for desc in descriptors:\n",
    "        print('    descriptor', desc)\n",
    "client.disconnect\n",
    "\"\"\""
   ]
  }
 ],
 "metadata": {
  "kernelspec": {
   "display_name": "Python 3",
   "language": "python",
   "name": "python3"
  },
  "language_info": {
   "codemirror_mode": {
    "name": "ipython",
    "version": 3
   },
   "file_extension": ".py",
   "mimetype": "text/x-python",
   "name": "python",
   "nbconvert_exporter": "python",
   "pygments_lexer": "ipython3",
   "version": "3.11.4"
  },
  "orig_nbformat": 4
 },
 "nbformat": 4,
 "nbformat_minor": 2
}
